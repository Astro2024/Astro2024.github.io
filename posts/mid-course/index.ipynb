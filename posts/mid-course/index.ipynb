{
 "cells": [
  {
   "cell_type": "raw",
   "metadata": {},
   "source": [
    "---\n",
    "title: \"Mid-Course Reflection\"\n",
    "type: \"Reflection\"\n",
    "date: 2024-04-02\n",
    "description: |\n",
    "    We reflect on our learning, engagement, and achievement in the first part of the semester. \n",
    "objectives: \n",
    "  - Reflection\n",
    "publish: \"true\"\n",
    "---"
   ]
  },
  {
   "attachments": {},
   "cell_type": "markdown",
   "metadata": {},
   "source": [
    "# Instructions\n",
    "\n",
    "- [Download this notebook](https://middlebury-csci-0451.github.io/CSCI-0451-s24/assignments/process/mid-course.ipynb)\n",
    "- Open the notebook in an editor of your choice (I recommend either VSCode or JupyterLab). \n",
    "- Delete the first two cells of the notebook (i.e. this one and the raw cell above). \n",
    "- Briefly review the goals you set for yourself in our [goal-setting activity](goal-setting.ipynb) at the beginning of the course. You can find your goals on Canvas. \n",
    "- In the [The Data](#the-data) section, replace the blanks with brief responses. \n",
    "- In the [What You Learned](#what-you-learned) and [Reflecting on Goals](#reflecting-on-goals) sections, write down your reflections on your learning, achievement, and presence in CSCI 0451 in the provided markdown cells. \n",
    "- Take some time to reflect on your responses so far. When you're ready, review the [soundbytes](#what-a-grade-sounds-like) describing letter grades. \n",
    "- Take some time to reflect on your responses so far. When you're ready, propose the letter grade that you feel best reflects your learning, participation, and achievement in CSCI 0451 **so far**. \n",
    "- Optionally, respond to the last prompt with some thoughts on how the semester is going and what we might do to help you meet your goals for the course. \n",
    "- Submit the notebook as a PDF on Canvas. \n",
    "\n",
    "We'll discuss your reflection and your proposed letter grade during our end-of-semester conference. \n",
    "\n",
    "\n",
    "*There are lots of ways to render Jupyter notebooks as PDFs. The simplest way is to run this at the command line, after you've navigated to the location of the notebook*: \n",
    "\n",
    "```bash\n",
    "jupyter nbconvert --to pdf mid-course.ipynb\n",
    "```"
   ]
  },
  {
   "attachments": {},
   "cell_type": "markdown",
   "metadata": {},
   "source": [
    "# CSCI 0451: Mid-Course Reflection\n",
    "\n",
    "James Hetherington"
   ]
  },
  {
   "attachments": {},
   "cell_type": "markdown",
   "metadata": {},
   "source": [
    "## The Data\n",
    "\n",
    "*In this section I'll ask you to fill in some data. You don't have to give precise numbers -- approximate, conversational responses are fine. For example, when I ask \"how often have you attended class,\" good answers include \"almost always,\" \"I've missed three times,\" \"about 75% of the time,\" \"not as often as I want,\" etc.* \n",
    "\n",
    "### Presence in Class\n",
    "\n",
    "- *How often have you attended class? \n",
    "    - I have missed three classes this semester, but two of those were thursday classes I missed due leaving for a track meet early.\n",
    "- *How often have you taken notes on the core readings ahead of the class period?* ____\n",
    "    - I do not take note on readings before class. In computer science classes I internalize work best when I am actually coding or doing assignments, so I have spent more effort on doing all of the warmup assignements.\n",
    "- *How often have you been **prepared** to present the daily warm-up exercise to your team, even if you weren't actually called?*  \n",
    "    - There have been two classes where I was not prepared present the warmup\n",
    "- *How many times have you **actually** presented the daily warm-up to your team?* \n",
    "    - I believe I have presented 4-5 times (our leader is often gone and we randomize the leader)\n",
    "- *How many times have you asked your team for help while presenting the daily warm-up?* \n",
    "    - Twice, they were the two classes I was not prepared to present. However, both times after discussing with teammates I ended up presenting.\n",
    "- *How often have you learned something new from a teammate's presentation of the daily warm-up?*\n",
    "    - I do not think their presentation to the class has taught me something new, but in our group discussion I think I learn something new almost ever class.\n",
    "- *How often have you helped a teammate during the daily warm-up presentation?* \n",
    "    - Confused about \"help\". Every presentation we discuss how we want to synthesize or present the content as a group, then the leader presents\n",
    "\n",
    "### Presence Outside of Class \n",
    "\n",
    "- *How often have you attended Student Hours or Peer Help?* \n",
    "    - I have not. Office hour times tend to be during my other classes or track practice.\n",
    "- *How often have you asked for or received help from your fellow students?* \n",
    "    - I have not asked for help on an assignment out of the class\n",
    "- *Have you been regularly participating in a study group outside class?* \n",
    "    - I do not participate in study groups outside of class.\n",
    "- *How often have you posted questions or answers in Slack?* \n",
    "    - I have not posted question on slack. When I have had questions I tend to talk with professor in-person.\n",
    "\n",
    "### Assignments and Effort\n",
    "\n",
    "- *How many blog posts have you submitted?* \n",
    "    - Technically none. I have not been able to get quarto to work, however I just talked with the Professor today about the assignments (which I have completed) and Quarto so in the next day or two I should have 3 assignments turned in.\n",
    "- *How many of your submitted blog posts are at each of the following feedback stages?*\n",
    "    - E: *No revisions suggested:* 0\n",
    "    - M: *Revisions useful:* 0\n",
    "    - R: *Revisions encouraged:* 0\n",
    "    - N: *Incomplete:* 0\n",
    "- *Roughly how many hours per week have you spent on this course outside of class?* 7 hours a week\n"
   ]
  },
  {
   "attachments": {},
   "cell_type": "markdown",
   "metadata": {},
   "source": [
    "## What You've Learned\n",
    "\n",
    "*At the beginning of the course, you may have expressed an interest in focusing a little extra on one or two of the following four categories:* \n",
    "\n",
    "- ***Theory***: *mathematical descriptions of frameworks and algorithms.*\n",
    "- ***Implementation***: *effective coding and use of tools in order to implement efficient machine learning algorithms.*\n",
    "- ***Experimentation***: *performing experiments to assess the performance of algorithms and clearly communicating about the results.*\n",
    "- ***Social responsibility***: *critical analysis of sources of bias and harm in machine learning algorithms; theoretical formulations of fairness and bias*\n",
    "\n",
    "*Did you choose to focus on any of these categories? If so, what have you done in order to pursue your interest?*  "
   ]
  },
  {
   "attachments": {},
   "cell_type": "markdown",
   "metadata": {},
   "source": [
    "- I have focussed mainly on Implementation and Experimentation. Outside of class I have been exploring how to integrate ML into a automated trading algorithm that I have managed over the last two years."
   ]
  },
  {
   "attachments": {},
   "cell_type": "markdown",
   "metadata": {},
   "source": [
    "## Reflecting on Goals\n",
    "\n",
    "*For each of the categories below, replace the \"[your response here]\" cell with 1-2 paragraphs in which you reflect on the following questions:* \n",
    "\n",
    "- *In what ways are you **on track to meet your goals** from the beginning of the course? Be specific: explain what the goal is and what you are doing in order to meet it.* \n",
    "- *In what ways are you **not on track to meet your goals** from the beginning of the course? Be specific: explain what the goal is and what gap you see between where you are and your goal.* \n",
    "- *If there's any **context** you want to share about how you are faring relative to your goals, please do!*\n",
    "\n",
    "### Blog Posts"
   ]
  },
  {
   "attachments": {},
   "cell_type": "markdown",
   "metadata": {},
   "source": [
    "My goal for this semester was to complete every blog we are assigned. I knew this was an ambitious, however I wanted to challenge myself and gain a concrete understanding of all the concepts. So far, if we were looking at canvas, I am very far behind. But, in actuality I have completed three of the six main blog posts. The reason I have been unable to submit the links is a 404 problem connected to quarto's system. I am pretty confident that I can finish the remaining 3 post in the remaining weeks. I plan to finish one post each week for the next three weeks. \n",
    "\n",
    "My one main regret so far this semester is that I was unable to make the women in data science conference. My track schedule this semester has been extremely hectic and I ended up having a mandatory track commitment on the same day as the conference."
   ]
  },
  {
   "attachments": {},
   "cell_type": "markdown",
   "metadata": {},
   "source": [
    "### Course Presence (Participation)"
   ]
  },
  {
   "attachments": {},
   "cell_type": "markdown",
   "metadata": {},
   "source": [
    "In my course presence section for goal setting I talked about trying to ask questions in class, make it to every class ith the acknowledgement that I will have job interviews, sports competitions, and family situations that might hinder my attendance, and to Complete every warmup even if I am not able to make the class. While I have missed three classes two of them fall into the \"sports competition\" category and the other class I missed was do to being sick. The one section I think I need to do better on is completing all of the warm ups. I have had a few warmup I did not complete and I did not have a valid reason other than being busy with other work.\n",
    "\n"
   ]
  },
  {
   "attachments": {},
   "cell_type": "markdown",
   "metadata": {},
   "source": [
    "### Project "
   ]
  },
  {
   "attachments": {},
   "cell_type": "markdown",
   "metadata": {},
   "source": [
    "Both project ideas I have talked about and presented in the last couple of weeks have been completely inline with the project ideas I mention in my initial goal setting."
   ]
  },
  {
   "attachments": {},
   "cell_type": "markdown",
   "metadata": {},
   "source": [
    "### Other\n",
    "\n",
    "*Is there anything else that you want to share with me about what you have learned, how you have participated, or what you have achieved in CSCI 0451?*"
   ]
  },
  {
   "attachments": {},
   "cell_type": "markdown",
   "metadata": {},
   "source": [
    "I would love to have more in-class work using neural networks."
   ]
  },
  {
   "attachments": {},
   "cell_type": "markdown",
   "metadata": {},
   "source": [
    "### Updating Your Goals\n",
    "\n",
    "From your experience in CSCI 0451 and your other classes this semester, you may feel moved to make modifications to your goals. Are they still feasible? Too ambitious? Not ambitious enough? If you would like to revise any of your goals from your reflective goal-setting, you can do so below. For each goal you want to modify: \n",
    "\n",
    "1. Clearly state what the goal was. \n",
    "2. Clearly state how you've done on that goal so far. \n",
    "3. Clearly state your proposed revised goal for the remainder of the course. "
   ]
  },
  {
   "attachments": {},
   "cell_type": "markdown",
   "metadata": {},
   "source": [
    "I would like to stick with all of the current goals I have. I feel like all of them are still very attainable and not too difficult to achieve."
   ]
  },
  {
   "attachments": {},
   "cell_type": "markdown",
   "metadata": {},
   "source": [
    "## Grade and Goals\n",
    "\n",
    "*Take 15 minutes to look back on your responses in each of the sections above. Then, state the letter grade that you feel reflects your learning, participation, and achievement in CSCI 0451 **so far**, and contextualize it against some of the soundbytes below.* \n",
    "\n",
    "### What a Grade Sounds Like\n",
    "\n",
    "*An **A** sounds like:* \n",
    "\n",
    "- *\"I am very proud of my time in this course.\"*\n",
    "- *\"I have grown significantly in multiple ways that matter to me.\"*\n",
    "- *\"I am ready to take the theory, techniques, and ideas of this course into my future classes, projects, hobbies, or career.\"* \n",
    "\n",
    "*A **B** sounds like:* \n",
    "\n",
    "- *\"I had some opportunities to learn more, overall I feel good about my time in this course.\"*\n",
    "- *\"I am able to explain some new things or achieve new tasks.\"*\n",
    "- *\"I can see a few ideas from this course that will be relevant for my future classes, projects, hobbies, or career.\"*\n",
    "\n",
    "*A **C** sounds like:* \n",
    "\n",
    "- *\"I often made a good effort, but I missed many opportunities to get more out of my time in this course.\"*\n",
    "- *\"I might be able to complete some new tasks related to the course content, but only with significant further guidance.\"* \n",
    "- *\"I don't see any ways to take the contents of this course into my future classes, projects, hobbies, or career.\"*\n",
    "\n",
    "*You might find that some of these soundbytes resonate and other's don't! Take some time, see what feels right, and don't be afraid to celebrate your achievements.* "
   ]
  },
  {
   "attachments": {},
   "cell_type": "markdown",
   "metadata": {},
   "source": [
    "> **Upon reflection, I feel that my learning, participation, and achievement in CSCI 0451 (so far) are best reflected by a grade of** B+\n",
    "\n",
    "> **A way in which I resonate with the soundbytes for that grade above is...** \n",
    "    The reason I would not give myself an A- or A is because I do not think I have truly maximized my time in this class. I have had a busy schedule and have not spent the amount of effort I really want to. I strongly resonate with the soundbyte, \"I am ready to take the theory, techniques, and ideas of this course into my future classes, projects, hobbies, or career.\" \n",
    "\n"
   ]
  },
  {
   "attachments": {},
   "cell_type": "markdown",
   "metadata": {},
   "source": [
    "## (Optional:) How to Improve? \n",
    "\n",
    "*You may feel disappointed by your reflection. Sometimes we don't achieve all our goals -- it happens and it's normal! If you are feeling disappointed by how you've learned, participated, or achieved in CSCI 0451, then feel free to write something about that below. Feel free to just write your feelings. If you have ideas for how to move forward, include those too! We'll talk.* "
   ]
  },
  {
   "attachments": {},
   "cell_type": "markdown",
   "metadata": {},
   "source": [
    "[your response here]"
   ]
  }
 ],
 "metadata": {
  "kernelspec": {
   "display_name": "ml-0451",
   "language": "python",
   "name": "python3"
  },
  "language_info": {
   "codemirror_mode": {
    "name": "ipython",
    "version": 3
   },
   "file_extension": ".py",
   "mimetype": "text/x-python",
   "name": "python",
   "nbconvert_exporter": "python",
   "pygments_lexer": "ipython3",
   "version": "3.9.18"
  },
  "orig_nbformat": 4,
  "vscode": {
   "interpreter": {
    "hash": "debe06cc0f9553f110b64dc3926c05df82dae2145b852c8422b9c04315589dcb"
   }
  }
 },
 "nbformat": 4,
 "nbformat_minor": 2
}
