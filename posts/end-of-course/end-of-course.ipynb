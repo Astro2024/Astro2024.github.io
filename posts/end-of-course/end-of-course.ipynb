{
 "cells": [
  {
   "attachments": {},
   "cell_type": "markdown",
   "metadata": {},
   "source": [
    "# CSCI 0451: End-Of-Course Reflection\n",
    "\n",
    "James Hetherington"
   ]
  },
  {
   "attachments": {},
   "cell_type": "markdown",
   "metadata": {},
   "source": [
    "## The Data\n",
    "\n",
    "In this section I'll ask you to fill in some data. You don't have to give precise numbers -- approximate, conversational responses are fine. For example, when I ask \"how often did you attend class,\" good answers include \"almost always,\" \"I missed three times,\" \"about 75% of the time,\" \"not as often as I wanted,\" etc. \n",
    "\n",
    "### Presence in Class\n",
    "\n",
    "- *How often did you attend class? (e.g. \"almost always,\" \"I missed three times,\" etc.)* I was in class most days. I think I ended up missing 3 0r 4 classes on Thursday throughout the semester due to traveling for Track and Field meets and job interviews.\n",
    "- *How often did you take notes on the core readings ahead of the class period?* I did not take note on the core readings. I almost always did them, but did not annotate notes.\n",
    "- *How often were you **prepared** to present the daily warm-up exercise to your team, even if you weren't actually called?* I was prepared to present every day except for 2 or 3 of the days were I had not been successful in implementing the warm up (usually due to a weird code error)\n",
    "- *How many times did you **actually** present the daily warm-up to your team?* A lot. This was brought up by my group, but it felt like I was the chosen the most often to lead our group in discussions.\n",
    "- *How many times did you ask your team for help while presenting the daily warm-up?* Twice. The first time my computer had died the night before and so I did not have a device for class and the second time it was the third day in a row I was chosen to present so I asked if someone else would take it.\n",
    "- *How often did you learn something new from a teammate's presentation of the daily warm-up?* Not very often. I felt like if I completed the warmup the information presented was not that different from mine.\n",
    "- *How often did you help a teammate during the daily warm-up presentation?* A couple times. Our group got along really well and the warmups ended up being a little more cooperative at times than formal sharing circles\n",
    "- *Did you contribute a question for our guest speaker?* no\n",
    "\n",
    "### Presence Outside of Class \n",
    "\n",
    "- *How often did you attend Student Hours or Peer Help?* I attended around 4-6 office hours. They were really hard to fit in my schedule because I had to miss the start of my track practice. \n",
    "- *How often did you ask for or receive help from your fellow students?* Not very often other than the final project.\n",
    "- *Did you regularly participate in a study group outside class?* No\n",
    "- *How often did you post questions or answers in Slack?* I did not. I deleted all social media on my phone and have kept it on do not disturb this entire semester so I do not really get any of the notifications until it is too late.\n",
    "\n",
    "### Assignments and Effort\n",
    "\n",
    "- *How many blog posts did you submit?* 7\n",
    "- *How many of your submitted blog posts are at each of the following feedback stages?*\n",
    "    - *No revisions suggested:* 5\n",
    "    - *Revisions useful:* 1\n",
    "    - *Revisions encouraged:* 0\n",
    "    - *Incomplete:* 0\n",
    "- *Roughly how many hours per week did you spend on this course outside of class?* Probably close to 10-12+ hours a week\n"
   ]
  },
  {
   "attachments": {},
   "cell_type": "markdown",
   "metadata": {},
   "source": [
    "## What You Learned\n",
    "\n",
    "*At the beginning of the course, you may have expressed an interest in focusing a little extra on one or two of the following four categories:* \n",
    "\n",
    "- ***Theory***: *mathematical descriptions of frameworks and algorithms.*\n",
    "- ***Implementation***: *effective coding and use of tools in order to implement efficient machine learning algorithms.*\n",
    "- ***Experimentation***: *performing experiments to assess the performance of algorithms and clearly communicating about the results.*\n",
    "- ***Social responsibility***: *critical analysis of sources of bias and harm in machine learning algorithms; theoretical formulations of fairness and bias*\n",
    "\n",
    "*Did you choose to focus on any of these categories? If so, what did you do in order to pursue your interest?*    "
   ]
  },
  {
   "attachments": {},
   "cell_type": "markdown",
   "metadata": {},
   "source": [
    "*I chose to have a heightened focus on implementation and experimentation. Through out the semester I worked on trying to implement and design ML models that I could implement in some of my personal coding projects and the final project I chose also fell heavily inline with those two catagories. I will also note that I was taking NLP at the same time as this course so there was a large overlap at times for all four of the catagories."
   ]
  },
  {
   "attachments": {},
   "cell_type": "markdown",
   "metadata": {},
   "source": [
    "## Reflecting on Goals\n",
    "\n",
    "*For each of the categories below, replace the \"[your response here]\" cell with 1-2 paragraphs in which you reflect on the following questions:* \n",
    "\n",
    "- *In what ways did you **meet** your goals from the beginning of the course? Be specific: explain what the goal was and what you did to meet it.* \n",
    "- *In what ways did you **not meet** your goals from the beginning of the course? Be specific: explain what the goal was and what the gap was between what you aspired to and what happened.* \n",
    "- *If there's any **context** you want to share about how you fared relative to your goals, please do!*\n",
    "\n",
    "### Blog Posts"
   ]
  },
  {
   "attachments": {},
   "cell_type": "markdown",
   "metadata": {},
   "source": [
    "My initial goal was rather ambitious. I had wanted to try and complete every blog post that was posted. And other than the Woman in CS one and the essay, I had done a good job completing all of them until I entered championship track meet season and I had to start on my final projects. This semester I have 4 different final projects that all started right about the same time and so most of my extra time to work on the new blog post assignments went out the door. As I neared the end of the semester I had planned on spending the last two weeks (when I was no longer competing for track) to catch up on assignments. However, my best friends mother passed away (she raised him and his younger brother alone) so I spent the last two weekends Thursday night to Sunday night taking the long drive down to his house to support him. As I am writing this response I am preparing to go to the wake and funeral tomorrow morning. If I could redo this semester again I would have been more proactive at the start to get ahead of blog posts as soon as they were released so that I would have an easier time towards the end of the week for other assignments and track meets (I was only on campus one weekend since January due to track meets)."
   ]
  },
  {
   "attachments": {},
   "cell_type": "markdown",
   "metadata": {},
   "source": [
    "### Course Presence (Participation)"
   ]
  },
  {
   "attachments": {},
   "cell_type": "markdown",
   "metadata": {},
   "source": [
    "I had three main goals for participation. \"I always want to ask questions during the class. Try to be in-person for every class, with the acknowledgement that I will have job interviews, sports competitions, and family situations that might hinder my attendance. Complete every warmup even if I am not able to make the class.\" For the first goal I definitely fell short. There were some days were I felt like I knew all the content or we were coding with you and I completely forgot to even think about asking questions. I think in hindsight a much more productive goal would have been to write down one question before class or during class to either ask or reflect on later. This would have been easier to do not matter what format the class was and more productive from a learning standpoint. The second goal I think I completed rather well. The only times I missed class were when I had a job interview, sporting event, or I was helping my friend whose mother died (he counts as family in my book). The last goal is one I came very close to completing fully. As I mentioned above I only missed (didn't complete) a couple of the warmup. I think the part that was slightly ambitious was completing every warm up even if I miss class. I know that when I missed a class I tended not to do the warmup."
   ]
  },
  {
   "attachments": {},
   "cell_type": "markdown",
   "metadata": {},
   "source": [
    "### Project "
   ]
  },
  {
   "attachments": {},
   "cell_type": "markdown",
   "metadata": {},
   "source": [
    "The project that I ended up completing was very similar to what I had mentioned in the goal-setting at the beginning of the year. The big difference is the data we created a ML model for. Due to the restriction of the project, the ethical concerns of using class time for personal monetary gain, and the cost of data for the personal algorithm I have been working on, we ended up shifting the project to something more general with free data. I am very happy with our project and will continue to try and explore/improve our results."
   ]
  },
  {
   "attachments": {},
   "cell_type": "markdown",
   "metadata": {},
   "source": [
    "### Other\n",
    "\n",
    "*Is there anything else that you want to share with me about what you learned, how you participated, or what you achieved in CSCI 0451?*"
   ]
  },
  {
   "attachments": {},
   "cell_type": "markdown",
   "metadata": {},
   "source": [
    "[your response here]"
   ]
  },
  {
   "attachments": {},
   "cell_type": "markdown",
   "metadata": {},
   "source": [
    "# Your Proposed Letter Grade\n",
    "\n",
    "*Take 15 minutes to look back on your responses in each of the sections above. Then, make a proposal for the letter grade that you feel best reflects your learning, participation, and achievement in CSCI 0451. Here are some soundbytes to help guide your thinking:*\n",
    "\n",
    "*An **A** sounds like:* \n",
    "\n",
    "- *\"I am very proud of my time in this course.\"*\n",
    "- *\"I have grown significantly in multiple ways that matter to me.\"*\n",
    "- *\"I am ready to take the theory, techniques, and ideas of this course into my future classes, projects, hobbies, or career.\"* \n",
    "\n",
    "*A **B** sounds like:* \n",
    "\n",
    "- *\"I had some opportunities to learn more, overall I feel good about my time in this course.\"*\n",
    "- *\"I am able to explain some new things or achieve new tasks.\"*\n",
    "- *\"I can see a few ideas from this course that will be relevant for my future classes, projects, hobbies, or career.\"*\n",
    "\n",
    "*A **C** sounds like:* \n",
    "\n",
    "- *\"I often made a good effort, but I missed many opportunities to get more out of my time in this course.\"*\n",
    "- *\"I might be able to complete some new tasks related to the course content, but only with significant further guidance.\"* \n",
    "- *\"I don't see any ways to take the contents of this course into my future classes, projects, hobbies, or career.\"*\n",
    "\n",
    "*You might find that some of these soundbytes resonate and other's don't! Take some time, see what feels right, and don't be afraid to celebrate your achievements.* "
   ]
  },
  {
   "attachments": {},
   "cell_type": "markdown",
   "metadata": {},
   "source": [
    "[Your proposed letter grade in this section should be based purely on demonstrations of learning that you have **already submitted**.]{.aside}\n",
    "\n",
    "> **Upon reflection, I feel that my learning, participation, and achievement in CSCI 0451 are best reflected by a grade of** A-\n"
   ]
  }
 ],
 "metadata": {
  "kernelspec": {
   "display_name": "ml-0451",
   "language": "python",
   "name": "python3"
  },
  "language_info": {
   "codemirror_mode": {
    "name": "ipython",
    "version": 3
   },
   "file_extension": ".py",
   "mimetype": "text/x-python",
   "name": "python",
   "nbconvert_exporter": "python",
   "pygments_lexer": "ipython3",
   "version": "3.9.18"
  },
  "orig_nbformat": 4,
  "vscode": {
   "interpreter": {
    "hash": "debe06cc0f9553f110b64dc3926c05df82dae2145b852c8422b9c04315589dcb"
   }
  }
 },
 "nbformat": 4,
 "nbformat_minor": 2
}
